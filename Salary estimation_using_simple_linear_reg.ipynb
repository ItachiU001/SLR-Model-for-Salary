{
 "cells": [
  {
   "cell_type": "markdown",
   "id": "401667f8",
   "metadata": {},
   "source": [
    "# Salary Estimation using Simple Linear Regression "
   ]
  },
  {
   "cell_type": "markdown",
   "id": "a91b90e3",
   "metadata": {},
   "source": [
    "## The simple linear regression model is used to estimate the salary of a person based on year of experience\n",
    "\n",
    "    1. The dataset contains two columns, year of experience and the salary\n",
    "    2. The independent vairable (feature) for the model is year of experience\n",
    "    3. The dependent variable (target/output) for the model is salary"
   ]
  },
  {
   "cell_type": "code",
   "execution_count": 74,
   "id": "8924ffa3",
   "metadata": {},
   "outputs": [],
   "source": [
    "# Import all the required model\n",
    "\n",
    "import pandas as pd\n",
    "import numpy as np\n",
    "import seaborn as sns\n",
    "import matplotlib.pyplot as plt\n",
    "import sklearn\n",
    "from sklearn.model_selection import train_test_split\n",
    "from sklearn.linear_model import LinearRegression\n",
    "from sklearn.metrics import r2_score\n",
    "import pickle as pk#Save the model in HDD\n",
    "from sklearn.metrics import mean_squared_error\n",
    "from math import sqrt"
   ]
  },
  {
   "cell_type": "markdown",
   "id": "8218ead2",
   "metadata": {},
   "source": [
    "## Load the dataset"
   ]
  },
  {
   "cell_type": "code",
   "execution_count": 2,
   "id": "1ef53e46",
   "metadata": {},
   "outputs": [],
   "source": [
    "df=pd.read_csv(\"Salary_Data.csv\")"
   ]
  },
  {
   "cell_type": "code",
   "execution_count": 3,
   "id": "dfa41115",
   "metadata": {
    "scrolled": true
   },
   "outputs": [
    {
     "data": {
      "text/html": [
       "<div>\n",
       "<style scoped>\n",
       "    .dataframe tbody tr th:only-of-type {\n",
       "        vertical-align: middle;\n",
       "    }\n",
       "\n",
       "    .dataframe tbody tr th {\n",
       "        vertical-align: top;\n",
       "    }\n",
       "\n",
       "    .dataframe thead th {\n",
       "        text-align: right;\n",
       "    }\n",
       "</style>\n",
       "<table border=\"1\" class=\"dataframe\">\n",
       "  <thead>\n",
       "    <tr style=\"text-align: right;\">\n",
       "      <th></th>\n",
       "      <th>YearsExperience</th>\n",
       "      <th>Salary</th>\n",
       "    </tr>\n",
       "  </thead>\n",
       "  <tbody>\n",
       "    <tr>\n",
       "      <th>0</th>\n",
       "      <td>1.1</td>\n",
       "      <td>39343.0</td>\n",
       "    </tr>\n",
       "    <tr>\n",
       "      <th>1</th>\n",
       "      <td>1.3</td>\n",
       "      <td>46205.0</td>\n",
       "    </tr>\n",
       "    <tr>\n",
       "      <th>2</th>\n",
       "      <td>1.5</td>\n",
       "      <td>37731.0</td>\n",
       "    </tr>\n",
       "    <tr>\n",
       "      <th>3</th>\n",
       "      <td>2.0</td>\n",
       "      <td>43525.0</td>\n",
       "    </tr>\n",
       "    <tr>\n",
       "      <th>4</th>\n",
       "      <td>2.2</td>\n",
       "      <td>39891.0</td>\n",
       "    </tr>\n",
       "  </tbody>\n",
       "</table>\n",
       "</div>"
      ],
      "text/plain": [
       "   YearsExperience   Salary\n",
       "0              1.1  39343.0\n",
       "1              1.3  46205.0\n",
       "2              1.5  37731.0\n",
       "3              2.0  43525.0\n",
       "4              2.2  39891.0"
      ]
     },
     "execution_count": 3,
     "metadata": {},
     "output_type": "execute_result"
    }
   ],
   "source": [
    "df.head() # first 5 entries of the data to see what type of data is in dataset"
   ]
  },
  {
   "cell_type": "markdown",
   "id": "138b5bac",
   "metadata": {},
   "source": [
    "## Check the data information like column name, datatypes total entries in the dataset "
   ]
  },
  {
   "cell_type": "code",
   "execution_count": 5,
   "id": "ed461377",
   "metadata": {},
   "outputs": [
    {
     "data": {
      "text/plain": [
       "(30, 2)"
      ]
     },
     "execution_count": 5,
     "metadata": {},
     "output_type": "execute_result"
    }
   ],
   "source": [
    "df.shape"
   ]
  },
  {
   "cell_type": "code",
   "execution_count": 6,
   "id": "7bac1d49",
   "metadata": {
    "scrolled": true
   },
   "outputs": [
    {
     "name": "stdout",
     "output_type": "stream",
     "text": [
      "<class 'pandas.core.frame.DataFrame'>\n",
      "RangeIndex: 30 entries, 0 to 29\n",
      "Data columns (total 2 columns):\n",
      " #   Column           Non-Null Count  Dtype  \n",
      "---  ------           --------------  -----  \n",
      " 0   YearsExperience  30 non-null     float64\n",
      " 1   Salary           30 non-null     float64\n",
      "dtypes: float64(2)\n",
      "memory usage: 608.0 bytes\n"
     ]
    }
   ],
   "source": [
    "df.info()"
   ]
  },
  {
   "cell_type": "markdown",
   "id": "65cf427e",
   "metadata": {},
   "source": [
    "## Check the null values in the dataset "
   ]
  },
  {
   "cell_type": "code",
   "execution_count": 7,
   "id": "f46f85f2",
   "metadata": {
    "scrolled": true
   },
   "outputs": [
    {
     "data": {
      "text/plain": [
       "YearsExperience    0\n",
       "Salary             0\n",
       "dtype: int64"
      ]
     },
     "execution_count": 7,
     "metadata": {},
     "output_type": "execute_result"
    }
   ],
   "source": [
    "df.isnull().sum()  # no null values are in dataset"
   ]
  },
  {
   "cell_type": "markdown",
   "id": "e402961c",
   "metadata": {},
   "source": [
    "## Check the linearity & correlation between dependent and independent variables\n",
    "\n",
    "   1. The simple linear regression model is used only when there is linear replationship between dependent and independent           variables\n",
    "   2. The simple linear regression model is sensetive to the outliers\n",
    "   "
   ]
  },
  {
   "cell_type": "code",
   "execution_count": 8,
   "id": "62313078",
   "metadata": {},
   "outputs": [
    {
     "data": {
      "text/plain": [
       "<seaborn.axisgrid.FacetGrid at 0x1858e5f26a0>"
      ]
     },
     "execution_count": 8,
     "metadata": {},
     "output_type": "execute_result"
    },
    {
     "data": {
      "image/png": "[encoded data removed]",
      "text/plain": [
       "<Figure size 360x360 with 1 Axes>"
      ]
     },
     "metadata": {
      "needs_background": "light"
     },
     "output_type": "display_data"
    }
   ],
   "source": [
    "sns.relplot(x=df.YearsExperience,y=df.Salary,kind='scatter')"
   ]
  },
  {
   "cell_type": "code",
   "execution_count": 9,
   "id": "a9a0a11d",
   "metadata": {},
   "outputs": [
    {
     "data": {
      "text/html": [
       "<div>\n",
       "<style scoped>\n",
       "    .dataframe tbody tr th:only-of-type {\n",
       "        vertical-align: middle;\n",
       "    }\n",
       "\n",
       "    .dataframe tbody tr th {\n",
       "        vertical-align: top;\n",
       "    }\n",
       "\n",
       "    .dataframe thead th {\n",
       "        text-align: right;\n",
       "    }\n",
       "</style>\n",
       "<table border=\"1\" class=\"dataframe\">\n",
       "  <thead>\n",
       "    <tr style=\"text-align: right;\">\n",
       "      <th></th>\n",
       "      <th>YearsExperience</th>\n",
       "      <th>Salary</th>\n",
       "    </tr>\n",
       "  </thead>\n",
       "  <tbody>\n",
       "    <tr>\n",
       "      <th>YearsExperience</th>\n",
       "      <td>1.000000</td>\n",
       "      <td>0.978242</td>\n",
       "    </tr>\n",
       "    <tr>\n",
       "      <th>Salary</th>\n",
       "      <td>0.978242</td>\n",
       "      <td>1.000000</td>\n",
       "    </tr>\n",
       "  </tbody>\n",
       "</table>\n",
       "</div>"
      ],
      "text/plain": [
       "                 YearsExperience    Salary\n",
       "YearsExperience         1.000000  0.978242\n",
       "Salary                  0.978242  1.000000"
      ]
     },
     "execution_count": 9,
     "metadata": {},
     "output_type": "execute_result"
    }
   ],
   "source": [
    "df.corr()"
   ]
  },
  {
   "cell_type": "code",
   "execution_count": 12,
   "id": "07df70e5",
   "metadata": {},
   "outputs": [
    {
     "name": "stderr",
     "output_type": "stream",
     "text": [
      "C:\\Users\\dell\\anaconda3\\envs\\PY38\\lib\\site-packages\\seaborn\\distributions.py:2619: FutureWarning: `distplot` is a deprecated function and will be removed in a future version. Please adapt your code to use either `displot` (a figure-level function with similar flexibility) or `histplot` (an axes-level function for histograms).\n",
      "  warnings.warn(msg, FutureWarning)\n"
     ]
    },
    {
     "data": {
      "text/plain": [
       "<AxesSubplot:xlabel='YearsExperience', ylabel='Density'>"
      ]
     },
     "execution_count": 12,
     "metadata": {},
     "output_type": "execute_result"
    },
    {
     "data": {
      "image/png": "[encoded data removed]",
      "text/plain": [
       "<Figure size 432x288 with 1 Axes>"
      ]
     },
     "metadata": {
      "needs_background": "light"
     },
     "output_type": "display_data"
    }
   ],
   "source": [
    "sns.distplot(df.YearsExperience)"
   ]
  },
  {
   "cell_type": "code",
   "execution_count": 13,
   "id": "997cf08c",
   "metadata": {
    "scrolled": true
   },
   "outputs": [
    {
     "name": "stderr",
     "output_type": "stream",
     "text": [
      "C:\\Users\\dell\\anaconda3\\envs\\PY38\\lib\\site-packages\\seaborn\\distributions.py:2619: FutureWarning: `distplot` is a deprecated function and will be removed in a future version. Please adapt your code to use either `displot` (a figure-level function with similar flexibility) or `histplot` (an axes-level function for histograms).\n",
      "  warnings.warn(msg, FutureWarning)\n"
     ]
    },
    {
     "data": {
      "text/plain": [
       "<AxesSubplot:xlabel='Salary', ylabel='Density'>"
      ]
     },
     "execution_count": 13,
     "metadata": {},
     "output_type": "execute_result"
    },
    {
     "data": {
      "image/png": "[encoded data removed]",
      "text/plain": [
       "<Figure size 432x288 with 1 Axes>"
      ]
     },
     "metadata": {
      "needs_background": "light"
     },
     "output_type": "display_data"
    }
   ],
   "source": [
    "sns.distplot(df.Salary)"
   ]
  },
  {
   "cell_type": "markdown",
   "id": "bd915180",
   "metadata": {},
   "source": [
    "### Both dependent and independent variables shows the linear relationship with positive correlation and with no outliers"
   ]
  },
  {
   "cell_type": "markdown",
   "id": "a8727529",
   "metadata": {},
   "source": [
    "## Divide the data into dependent and independent variables"
   ]
  },
  {
   "cell_type": "code",
   "execution_count": 15,
   "id": "6350a157",
   "metadata": {},
   "outputs": [],
   "source": [
    "y=df[\"Salary\"] # Dependent variable-- Salary\n",
    "x=df[\"YearsExperience\"] # Independent variable-- Year of experience"
   ]
  },
  {
   "cell_type": "code",
   "execution_count": 17,
   "id": "2aff673b",
   "metadata": {},
   "outputs": [
    {
     "data": {
      "text/plain": [
       "(30,)"
      ]
     },
     "execution_count": 17,
     "metadata": {},
     "output_type": "execute_result"
    }
   ],
   "source": [
    "x.shape # check the size of Independent variable"
   ]
  },
  {
   "cell_type": "code",
   "execution_count": 19,
   "id": "6adc0888",
   "metadata": {},
   "outputs": [
    {
     "data": {
      "text/plain": [
       "(30,)"
      ]
     },
     "execution_count": 19,
     "metadata": {},
     "output_type": "execute_result"
    }
   ],
   "source": [
    "y.shape # check the size of dependent variable"
   ]
  },
  {
   "cell_type": "markdown",
   "id": "ae46ec02",
   "metadata": {},
   "source": [
    "## Reshaping the independent variable\n",
    "\n",
    "    The sklearn library required 2D values for processing, but the independent variable is 1D.\n",
    "    Using reshape, we convert 1D independent variable into 2D"
   ]
  },
  {
   "cell_type": "code",
   "execution_count": 20,
   "id": "9c59da77",
   "metadata": {},
   "outputs": [],
   "source": [
    "x_matrix=x.values.reshape(-1,1)"
   ]
  },
  {
   "cell_type": "code",
   "execution_count": 77,
   "id": "5675f1ec",
   "metadata": {},
   "outputs": [],
   "source": [
    "#x_matrix"
   ]
  },
  {
   "cell_type": "code",
   "execution_count": 22,
   "id": "4d2a3b3c",
   "metadata": {},
   "outputs": [
    {
     "data": {
      "text/plain": [
       "(30, 1)"
      ]
     },
     "execution_count": 22,
     "metadata": {},
     "output_type": "execute_result"
    }
   ],
   "source": [
    "x_matrix.shape # 2D independent variable"
   ]
  },
  {
   "cell_type": "markdown",
   "id": "a8950805",
   "metadata": {},
   "source": [
    "## Divide the dataset into training and testing dataset "
   ]
  },
  {
   "cell_type": "code",
   "execution_count": 23,
   "id": "bbc7d1df",
   "metadata": {},
   "outputs": [],
   "source": [
    "x_train,x_test,y_train,y_test=train_test_split(x_matrix,y,test_size=0.25,random_state=101)"
   ]
  },
  {
   "cell_type": "code",
   "execution_count": 28,
   "id": "2bf91082",
   "metadata": {},
   "outputs": [],
   "source": [
    "#x_train"
   ]
  },
  {
   "cell_type": "code",
   "execution_count": 29,
   "id": "b5f907b0",
   "metadata": {},
   "outputs": [],
   "source": [
    "#x_test"
   ]
  },
  {
   "cell_type": "code",
   "execution_count": 30,
   "id": "392c2080",
   "metadata": {},
   "outputs": [],
   "source": [
    "#y_test"
   ]
  },
  {
   "cell_type": "code",
   "execution_count": 31,
   "id": "054cf25f",
   "metadata": {
    "scrolled": true
   },
   "outputs": [],
   "source": [
    "#y_train"
   ]
  },
  {
   "cell_type": "markdown",
   "id": "429d8f98",
   "metadata": {},
   "source": [
    "## Build a simple linear regression model"
   ]
  },
  {
   "cell_type": "code",
   "execution_count": 32,
   "id": "77f1f0e3",
   "metadata": {},
   "outputs": [],
   "source": [
    "reg_model=LinearRegression()"
   ]
  },
  {
   "cell_type": "markdown",
   "id": "64fb4ed3",
   "metadata": {},
   "source": [
    "## Model learning phase using training dataset"
   ]
  },
  {
   "cell_type": "code",
   "execution_count": 33,
   "id": "817909ef",
   "metadata": {
    "scrolled": true
   },
   "outputs": [
    {
     "data": {
      "text/plain": [
       "LinearRegression()"
      ]
     },
     "execution_count": 33,
     "metadata": {},
     "output_type": "execute_result"
    }
   ],
   "source": [
    "reg_model.fit(x_train,y_train)"
   ]
  },
  {
   "cell_type": "markdown",
   "id": "dfd65344",
   "metadata": {},
   "source": [
    "## Model coefficient (slop/m) and y-intercept (c) "
   ]
  },
  {
   "cell_type": "code",
   "execution_count": 37,
   "id": "dfe75f36",
   "metadata": {},
   "outputs": [
    {
     "data": {
      "text/plain": [
       "array([9412.64272211])"
      ]
     },
     "execution_count": 37,
     "metadata": {},
     "output_type": "execute_result"
    }
   ],
   "source": [
    "reg_model.coef_  # slop (m)"
   ]
  },
  {
   "cell_type": "code",
   "execution_count": 38,
   "id": "85be5274",
   "metadata": {
    "scrolled": true
   },
   "outputs": [
    {
     "data": {
      "text/plain": [
       "26492.258137189623"
      ]
     },
     "execution_count": 38,
     "metadata": {},
     "output_type": "execute_result"
    }
   ],
   "source": [
    "reg_model.intercept_ # y-intercept (c)"
   ]
  },
  {
   "cell_type": "markdown",
   "id": "0657de7d",
   "metadata": {},
   "source": [
    "# Prediction of dependent variable (y) "
   ]
  },
  {
   "cell_type": "markdown",
   "id": "d471b681",
   "metadata": {},
   "source": [
    "## For training dataset"
   ]
  },
  {
   "cell_type": "code",
   "execution_count": 39,
   "id": "6cd17d4a",
   "metadata": {},
   "outputs": [],
   "source": [
    "predy_train=reg_model.predict(x_train)"
   ]
  },
  {
   "cell_type": "code",
   "execution_count": 42,
   "id": "d6d7cb4c",
   "metadata": {},
   "outputs": [
    {
     "data": {
      "text/plain": [
       "array([111206.04263615, 123442.47817489,  63201.56475341,  45317.5435814 ,\n",
       "        38728.69367593,  82968.11446983, 100852.13564183,  64142.82902562,\n",
       "        53788.9220313 ,  68849.15038667,  36846.16513151,  93322.02146415,\n",
       "        47200.07212582,  56612.71484793,  65084.09329783,  61319.03620898,\n",
       "        72614.20747551, 125325.00671931, 103675.92845846,  54730.18630351,\n",
       "        76379.26456435,  64142.82902562])"
      ]
     },
     "execution_count": 42,
     "metadata": {},
     "output_type": "execute_result"
    }
   ],
   "source": [
    "predy_train # prediction of 22 entries of training dataset"
   ]
  },
  {
   "cell_type": "markdown",
   "id": "8f8e001f",
   "metadata": {},
   "source": [
    "## For testing dataset"
   ]
  },
  {
   "cell_type": "code",
   "execution_count": 43,
   "id": "2f3bb7d7",
   "metadata": {},
   "outputs": [],
   "source": [
    "predy_test=reg_model.predict(x_test)"
   ]
  },
  {
   "cell_type": "code",
   "execution_count": 44,
   "id": "fe5f6c66",
   "metadata": {
    "scrolled": true
   },
   "outputs": [
    {
     "data": {
      "text/plain": [
       "array([ 90498.22864751, 108382.24981952,  56612.71484793,  82026.85019762,\n",
       "        40611.22222035, 116853.62826941, 115912.3639972 ,  74496.73601993])"
      ]
     },
     "execution_count": 44,
     "metadata": {},
     "output_type": "execute_result"
    }
   ],
   "source": [
    "predy_test # prediction of 8 entries of testing dataset"
   ]
  },
  {
   "cell_type": "markdown",
   "id": "a6977b75",
   "metadata": {},
   "source": [
    "## For all dataset"
   ]
  },
  {
   "cell_type": "code",
   "execution_count": 45,
   "id": "f39bf404",
   "metadata": {},
   "outputs": [],
   "source": [
    "predy=reg_model.predict(x_matrix)   "
   ]
  },
  {
   "cell_type": "code",
   "execution_count": 48,
   "id": "927603df",
   "metadata": {
    "scrolled": true
   },
   "outputs": [
    {
     "data": {
      "text/plain": [
       "array([ 36846.16513151,  38728.69367593,  40611.22222035,  45317.5435814 ,\n",
       "        47200.07212582,  53788.9220313 ,  54730.18630351,  56612.71484793,\n",
       "        56612.71484793,  61319.03620898,  63201.56475341,  64142.82902562,\n",
       "        64142.82902562,  65084.09329783,  68849.15038667,  72614.20747551,\n",
       "        74496.73601993,  76379.26456435,  82026.85019762,  82968.11446983,\n",
       "        90498.22864751,  93322.02146415, 100852.13564183, 103675.92845846,\n",
       "       108382.24981952, 111206.04263615, 115912.3639972 , 116853.62826941,\n",
       "       123442.47817489, 125325.00671931])"
      ]
     },
     "execution_count": 48,
     "metadata": {},
     "output_type": "execute_result"
    }
   ],
   "source": [
    "predy # prediction of all 30 entries"
   ]
  },
  {
   "cell_type": "markdown",
   "id": "c23259ac",
   "metadata": {},
   "source": [
    "Loss/cost function calculation"
   ]
  },
  {
   "cell_type": "code",
   "execution_count": 65,
   "id": "8c09f821",
   "metadata": {},
   "outputs": [
    {
     "data": {
      "text/plain": [
       "14190103847.174303"
      ]
     },
     "execution_count": 65,
     "metadata": {},
     "output_type": "execute_result"
    }
   ],
   "source": [
    "loss_fun_reg=sum((predy-y)**2)/2*len(y)\n",
    "loss_fun_reg"
   ]
  },
  {
   "cell_type": "markdown",
   "id": "34ae76e5",
   "metadata": {},
   "source": [
    "# Model Accuracy"
   ]
  },
  {
   "cell_type": "markdown",
   "id": "c1a17c48",
   "metadata": {},
   "source": [
    "## Model training accuracy using .score method"
   ]
  },
  {
   "cell_type": "code",
   "execution_count": 49,
   "id": "70f9e687",
   "metadata": {},
   "outputs": [
    {
     "data": {
      "text/plain": [
       "0.9446929404015515"
      ]
     },
     "execution_count": 49,
     "metadata": {},
     "output_type": "execute_result"
    }
   ],
   "source": [
    "train_acc=reg_model.score(x_train,y_train)\n",
    "train_acc"
   ]
  },
  {
   "cell_type": "markdown",
   "id": "ca7fd7aa",
   "metadata": {},
   "source": [
    "## Model testing accuracy using .score method"
   ]
  },
  {
   "cell_type": "code",
   "execution_count": 50,
   "id": "d08847e7",
   "metadata": {},
   "outputs": [
    {
     "data": {
      "text/plain": [
       "0.9820915410004406"
      ]
     },
     "execution_count": 50,
     "metadata": {},
     "output_type": "execute_result"
    }
   ],
   "source": [
    "test_acc=reg_model.score(x_test,y_test)\n",
    "test_acc"
   ]
  },
  {
   "cell_type": "markdown",
   "id": "5433fd2d",
   "metadata": {},
   "source": [
    "## Model training accuracy using R square method"
   ]
  },
  {
   "cell_type": "code",
   "execution_count": 64,
   "id": "f272b2ef",
   "metadata": {},
   "outputs": [
    {
     "data": {
      "text/plain": [
       "0.9446929404015515"
      ]
     },
     "execution_count": 64,
     "metadata": {},
     "output_type": "execute_result"
    }
   ],
   "source": [
    "r_squared_train=r2_score(y_train, predy_train)\n",
    "r_squared_train"
   ]
  },
  {
   "cell_type": "markdown",
   "id": "36fc12e3",
   "metadata": {},
   "source": [
    "## Model testing accuracy using R square method"
   ]
  },
  {
   "cell_type": "code",
   "execution_count": 66,
   "id": "7ab29cef",
   "metadata": {},
   "outputs": [
    {
     "data": {
      "text/plain": [
       "0.9820915410004406"
      ]
     },
     "execution_count": 66,
     "metadata": {},
     "output_type": "execute_result"
    }
   ],
   "source": [
    "r_squared_test=r2_score(y_test, predy_test)\n",
    "r_squared_test"
   ]
  },
  {
   "cell_type": "markdown",
   "id": "b544fb4a",
   "metadata": {},
   "source": [
    "## MSE & RMSE values for training dataset"
   ]
  },
  {
   "cell_type": "code",
   "execution_count": 55,
   "id": "abdec0db",
   "metadata": {},
   "outputs": [
    {
     "data": {
      "text/plain": [
       "38150854.135948285"
      ]
     },
     "execution_count": 55,
     "metadata": {},
     "output_type": "execute_result"
    }
   ],
   "source": [
    "mse_train=mean_squared_error(y_train,predy_train)\n",
    "mse_train"
   ]
  },
  {
   "cell_type": "code",
   "execution_count": 56,
   "id": "55018d98",
   "metadata": {},
   "outputs": [
    {
     "data": {
      "text/plain": [
       "6176.637769527066"
      ]
     },
     "execution_count": 56,
     "metadata": {},
     "output_type": "execute_result"
    }
   ],
   "source": [
    "rmse_train=sqrt(mse_train)\n",
    "rmse_train"
   ]
  },
  {
   "cell_type": "markdown",
   "id": "0a4d0107",
   "metadata": {},
   "source": [
    "## MSE & RMSE values for testing dataset"
   ]
  },
  {
   "cell_type": "code",
   "execution_count": 59,
   "id": "df63d6b9",
   "metadata": {},
   "outputs": [
    {
     "data": {
      "text/plain": [
       "13336016.519261394"
      ]
     },
     "execution_count": 59,
     "metadata": {},
     "output_type": "execute_result"
    }
   ],
   "source": [
    "mse_test=mean_squared_error(y_test,predy_test)\n",
    "mse_test"
   ]
  },
  {
   "cell_type": "code",
   "execution_count": 60,
   "id": "53243787",
   "metadata": {
    "scrolled": true
   },
   "outputs": [
    {
     "data": {
      "text/plain": [
       "3651.8511085833434"
      ]
     },
     "execution_count": 60,
     "metadata": {},
     "output_type": "execute_result"
    }
   ],
   "source": [
    "rmse_test=sqrt(mse_test)\n",
    "rmse_test"
   ]
  },
  {
   "cell_type": "markdown",
   "id": "7861b59f",
   "metadata": {},
   "source": [
    "## Evaluation\n",
    "\n",
    "### Training Accuracy\n",
    "     1. Using .score methode: 94%\n",
    "     2. Using R square methode: 94%\n",
    "     \n",
    "### Testing Accuracy\n",
    "     1. Using .score methode: 98%\n",
    "     2. Using R square methode: 98%     \n",
    "\n",
    "### Training MSE & RMSE\n",
    "     1. MSE:  38150854.14\n",
    "     2. RMSE: 6176.64\n",
    "    \n",
    "### Testing MSE & RMSE\n",
    "     1. MSE:  13336016.52\n",
    "     2. RMSE: 3651.85\n",
    "\n",
    "Model is overfit"
   ]
  },
  {
   "cell_type": "markdown",
   "id": "05da6c74",
   "metadata": {},
   "source": [
    "# Plotting"
   ]
  },
  {
   "cell_type": "code",
   "execution_count": 72,
   "id": "bb2e21ee",
   "metadata": {
    "scrolled": true
   },
   "outputs": [
    {
     "data": {
      "text/plain": [
       "[<matplotlib.lines.Line2D at 0x1858f778220>]"
      ]
     },
     "execution_count": 72,
     "metadata": {},
     "output_type": "execute_result"
    },
    {
     "data": {
      "image/png": "[encoded data removed]",
      "text/plain": [
       "<Figure size 432x288 with 1 Axes>"
      ]
     },
     "metadata": {
      "needs_background": "light"
     },
     "output_type": "display_data"
    }
   ],
   "source": [
    "df.plot(kind=\"scatter\",x=\"YearsExperience\",y=\"Salary\",title=\"Simple Linear Regression Model for Salary Estimation\",xlabel=\"Years of Experience\",ylabel=\"Salary\")\n",
    "plt.plot(x,predy,c=\"red\",linewidth=2)"
   ]
  },
  {
   "cell_type": "markdown",
   "id": "b31c8894",
   "metadata": {},
   "source": [
    "## Saving the model in local drive"
   ]
  },
  {
   "cell_type": "code",
   "execution_count": 75,
   "id": "4dcfe423",
   "metadata": {},
   "outputs": [],
   "source": [
    "filename=\"slr_salary_model.pk\"\n",
    "pk.dump(reg_model,open(filename,\"wb\"))"
   ]
  }
 ],
 "metadata": {
  "kernelspec": {
   "display_name": "Python 3",
   "language": "python",
   "name": "python3"
  },
  "language_info": {
   "codemirror_mode": {
    "name": "ipython",
    "version": 3
   },
   "file_extension": ".py",
   "mimetype": "text/x-python",
   "name": "python",
   "nbconvert_exporter": "python",
   "pygments_lexer": "ipython3",
   "version": "3.8.10"
  }
 },
 "nbformat": 4,
 "nbformat_minor": 5
}
